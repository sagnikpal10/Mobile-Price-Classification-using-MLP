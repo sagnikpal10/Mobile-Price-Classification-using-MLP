{
  "nbformat": 4,
  "nbformat_minor": 0,
  "metadata": {
    "colab": {
      "name": "Mobile Price Classification using MLP.ipynb",
      "provenance": [],
      "authorship_tag": "ABX9TyPJrtwJRSkoyJuLpAWfyFzc",
      "include_colab_link": true
    },
    "kernelspec": {
      "name": "python3",
      "display_name": "Python 3"
    },
    "accelerator": "TPU"
  },
  "cells": [
    {
      "cell_type": "markdown",
      "metadata": {
        "id": "view-in-github",
        "colab_type": "text"
      },
      "source": [
        "<a href=\"https://colab.research.google.com/github/sagnikpal10/Mobile-Price-Classification-using-MLP/blob/master/Mobile_Price_Classification_using_MLP.ipynb\" target=\"_parent\"><img src=\"https://colab.research.google.com/assets/colab-badge.svg\" alt=\"Open In Colab\"/></a>"
      ]
    },
    {
      "cell_type": "code",
      "metadata": {
        "id": "LT5NaoEwGrEL",
        "colab_type": "code",
        "colab": {}
      },
      "source": [
        "import numpy as np\n",
        "import matplotlib.pyplot as plt\n",
        "import pandas as pd "
      ],
      "execution_count": 0,
      "outputs": []
    },
    {
      "cell_type": "code",
      "metadata": {
        "id": "Iv7lmQsrHEBo",
        "colab_type": "code",
        "colab": {
          "base_uri": "https://localhost:8080/",
          "height": 246
        },
        "outputId": "8df75229-fcfd-4d10-eb07-7ca400427796"
      },
      "source": [
        "dataset = pd.read_csv('train.csv')\n",
        "print(dataset.head(10))"
      ],
      "execution_count": 3,
      "outputs": [
        {
          "output_type": "stream",
          "text": [
            "   battery_power  blue  clock_speed  ...  touch_screen  wifi  price_range\n",
            "0            842     0          2.2  ...             0     1            1\n",
            "1           1021     1          0.5  ...             1     0            2\n",
            "2            563     1          0.5  ...             1     0            2\n",
            "3            615     1          2.5  ...             0     0            2\n",
            "4           1821     1          1.2  ...             1     0            1\n",
            "5           1859     0          0.5  ...             0     0            1\n",
            "6           1821     0          1.7  ...             0     1            3\n",
            "7           1954     0          0.5  ...             1     1            0\n",
            "8           1445     1          0.5  ...             0     0            0\n",
            "9            509     1          0.6  ...             0     0            0\n",
            "\n",
            "[10 rows x 21 columns]\n"
          ],
          "name": "stdout"
        }
      ]
    },
    {
      "cell_type": "code",
      "metadata": {
        "id": "PeVDD_KmHsW2",
        "colab_type": "code",
        "colab": {
          "base_uri": "https://localhost:8080/",
          "height": 105
        },
        "outputId": "1143b3b6-01d5-4988-d32e-ac2a528cfd44"
      },
      "source": [
        "dataset.columns"
      ],
      "execution_count": 4,
      "outputs": [
        {
          "output_type": "execute_result",
          "data": {
            "text/plain": [
              "Index(['battery_power', 'blue', 'clock_speed', 'dual_sim', 'fc', 'four_g',\n",
              "       'int_memory', 'm_dep', 'mobile_wt', 'n_cores', 'pc', 'px_height',\n",
              "       'px_width', 'ram', 'sc_h', 'sc_w', 'talk_time', 'three_g',\n",
              "       'touch_screen', 'wifi', 'price_range'],\n",
              "      dtype='object')"
            ]
          },
          "metadata": {
            "tags": []
          },
          "execution_count": 4
        }
      ]
    },
    {
      "cell_type": "code",
      "metadata": {
        "id": "Ji5DGHz9HV2O",
        "colab_type": "code",
        "colab": {}
      },
      "source": [
        "#Changing pandas dataframe to numpy array\n",
        "X = dataset.iloc[:,:20].values\n",
        "y = dataset.iloc[:,20:21].values"
      ],
      "execution_count": 0,
      "outputs": []
    },
    {
      "cell_type": "code",
      "metadata": {
        "id": "1CHYDNucH10z",
        "colab_type": "code",
        "colab": {
          "base_uri": "https://localhost:8080/",
          "height": 70
        },
        "outputId": "f46c4a0d-bbff-495c-f946-429e5d25caac"
      },
      "source": [
        "print(X[0])"
      ],
      "execution_count": 6,
      "outputs": [
        {
          "output_type": "stream",
          "text": [
            "[8.420e+02 0.000e+00 2.200e+00 0.000e+00 1.000e+00 0.000e+00 7.000e+00\n",
            " 6.000e-01 1.880e+02 2.000e+00 2.000e+00 2.000e+01 7.560e+02 2.549e+03\n",
            " 9.000e+00 7.000e+00 1.900e+01 0.000e+00 0.000e+00 1.000e+00]\n"
          ],
          "name": "stdout"
        }
      ]
    },
    {
      "cell_type": "code",
      "metadata": {
        "id": "3kahysSNH53h",
        "colab_type": "code",
        "colab": {}
      },
      "source": [
        "#Normalizing the data\n",
        "from sklearn.preprocessing import StandardScaler\n",
        "sc = StandardScaler()\n",
        "X = sc.fit_transform(X)"
      ],
      "execution_count": 0,
      "outputs": []
    },
    {
      "cell_type": "code",
      "metadata": {
        "id": "4g1_D6U0IAP5",
        "colab_type": "code",
        "colab": {
          "base_uri": "https://localhost:8080/",
          "height": 87
        },
        "outputId": "c35518db-f7da-4a94-9fb9-6ba8ce6e7cfd"
      },
      "source": [
        "print(X[0])"
      ],
      "execution_count": 8,
      "outputs": [
        {
          "output_type": "stream",
          "text": [
            "[-0.90259726 -0.9900495   0.83077942 -1.01918398 -0.76249466 -1.04396559\n",
            " -1.38064353  0.34073951  1.34924881 -1.10197128 -1.3057501  -1.40894856\n",
            " -1.14678403  0.39170341 -0.78498329  0.2831028   1.46249332 -1.78686097\n",
            " -1.00601811  0.98609664]\n"
          ],
          "name": "stdout"
        }
      ]
    },
    {
      "cell_type": "code",
      "metadata": {
        "id": "S3xtNdwqID6n",
        "colab_type": "code",
        "colab": {
          "base_uri": "https://localhost:8080/",
          "height": 122
        },
        "outputId": "9f928c30-32e6-43fc-d681-41e1f3526bfc"
      },
      "source": [
        "#One hot encode\n",
        "from sklearn.preprocessing import OneHotEncoder\n",
        "ohe = OneHotEncoder()\n",
        "y = ohe.fit_transform(y).toarray()\n",
        "print('One hot encoded array:')\n",
        "print(y[0:5])"
      ],
      "execution_count": 9,
      "outputs": [
        {
          "output_type": "stream",
          "text": [
            "One hot encoded array:\n",
            "[[0. 1. 0. 0.]\n",
            " [0. 0. 1. 0.]\n",
            " [0. 0. 1. 0.]\n",
            " [0. 0. 1. 0.]\n",
            " [0. 1. 0. 0.]]\n"
          ],
          "name": "stdout"
        }
      ]
    },
    {
      "cell_type": "code",
      "metadata": {
        "id": "FyWc7WZ5ILcl",
        "colab_type": "code",
        "colab": {}
      },
      "source": [
        "#Train test split of model\n",
        "from sklearn.model_selection import train_test_split\n",
        "X_train,X_test,y_train,y_test = train_test_split(X,y,test_size = 0.1,random_state = 0)"
      ],
      "execution_count": 0,
      "outputs": []
    },
    {
      "cell_type": "code",
      "metadata": {
        "id": "kHDEZ2zsITDm",
        "colab_type": "code",
        "colab": {
          "base_uri": "https://localhost:8080/",
          "height": 34
        },
        "outputId": "c9a889af-e089-4da3-fb4b-f191b77a1137"
      },
      "source": [
        "#Dependencies\n",
        "import keras\n",
        "from keras.models import Sequential\n",
        "from keras.layers import Dense\n",
        "# Neural network\n",
        "model = Sequential()\n",
        "model.add(Dense(16, input_dim=20, activation='relu'))\n",
        "model.add(Dense(12, activation='relu'))\n",
        "model.add(Dense(4, activation='softmax'))"
      ],
      "execution_count": 11,
      "outputs": [
        {
          "output_type": "stream",
          "text": [
            "Using TensorFlow backend.\n"
          ],
          "name": "stderr"
        }
      ]
    },
    {
      "cell_type": "code",
      "metadata": {
        "id": "FA4xe1BQIgly",
        "colab_type": "code",
        "colab": {}
      },
      "source": [
        "model.compile(loss='categorical_crossentropy', optimizer='adam', metrics=['accuracy'])"
      ],
      "execution_count": 0,
      "outputs": []
    },
    {
      "cell_type": "code",
      "metadata": {
        "id": "y7iaNrqzn-ck",
        "colab_type": "code",
        "colab": {
          "base_uri": "https://localhost:8080/",
          "height": 263
        },
        "outputId": "2c9da5d8-1417-418b-d0f4-c31c3689dd72"
      },
      "source": [
        "model.summary()"
      ],
      "execution_count": 15,
      "outputs": [
        {
          "output_type": "stream",
          "text": [
            "Model: \"sequential_1\"\n",
            "_________________________________________________________________\n",
            "Layer (type)                 Output Shape              Param #   \n",
            "=================================================================\n",
            "dense_1 (Dense)              (None, 16)                336       \n",
            "_________________________________________________________________\n",
            "dense_2 (Dense)              (None, 12)                204       \n",
            "_________________________________________________________________\n",
            "dense_3 (Dense)              (None, 4)                 52        \n",
            "=================================================================\n",
            "Total params: 592\n",
            "Trainable params: 592\n",
            "Non-trainable params: 0\n",
            "_________________________________________________________________\n"
          ],
          "name": "stdout"
        }
      ]
    },
    {
      "cell_type": "code",
      "metadata": {
        "id": "rUk5p7INKtkw",
        "colab_type": "code",
        "colab": {
          "base_uri": "https://localhost:8080/",
          "height": 1000
        },
        "outputId": "1ab6fe4a-3055-469a-8295-d49ec21195b8"
      },
      "source": [
        "history = model.fit(X_train, y_train,validation_data = (X_test,y_test), epochs=100, batch_size=64)"
      ],
      "execution_count": 16,
      "outputs": [
        {
          "output_type": "stream",
          "text": [
            "Train on 1800 samples, validate on 200 samples\n",
            "Epoch 1/100\n",
            "1800/1800 [==============================] - 0s 176us/step - loss: 1.4721 - accuracy: 0.2656 - val_loss: 1.3876 - val_accuracy: 0.3000\n",
            "Epoch 2/100\n",
            "1800/1800 [==============================] - 0s 22us/step - loss: 1.3988 - accuracy: 0.3022 - val_loss: 1.3520 - val_accuracy: 0.3300\n",
            "Epoch 3/100\n",
            "1800/1800 [==============================] - 0s 21us/step - loss: 1.3531 - accuracy: 0.3367 - val_loss: 1.3217 - val_accuracy: 0.3600\n",
            "Epoch 4/100\n",
            "1800/1800 [==============================] - 0s 22us/step - loss: 1.3132 - accuracy: 0.3800 - val_loss: 1.2853 - val_accuracy: 0.4100\n",
            "Epoch 5/100\n",
            "1800/1800 [==============================] - 0s 20us/step - loss: 1.2675 - accuracy: 0.4300 - val_loss: 1.2376 - val_accuracy: 0.4300\n",
            "Epoch 6/100\n",
            "1800/1800 [==============================] - 0s 22us/step - loss: 1.2120 - accuracy: 0.4811 - val_loss: 1.1757 - val_accuracy: 0.5100\n",
            "Epoch 7/100\n",
            "1800/1800 [==============================] - 0s 21us/step - loss: 1.1430 - accuracy: 0.5194 - val_loss: 1.1018 - val_accuracy: 0.5400\n",
            "Epoch 8/100\n",
            "1800/1800 [==============================] - 0s 22us/step - loss: 1.0639 - accuracy: 0.5589 - val_loss: 1.0243 - val_accuracy: 0.5950\n",
            "Epoch 9/100\n",
            "1800/1800 [==============================] - 0s 21us/step - loss: 0.9797 - accuracy: 0.5972 - val_loss: 0.9464 - val_accuracy: 0.6350\n",
            "Epoch 10/100\n",
            "1800/1800 [==============================] - 0s 25us/step - loss: 0.8985 - accuracy: 0.6356 - val_loss: 0.8708 - val_accuracy: 0.6650\n",
            "Epoch 11/100\n",
            "1800/1800 [==============================] - 0s 24us/step - loss: 0.8218 - accuracy: 0.6639 - val_loss: 0.7995 - val_accuracy: 0.6900\n",
            "Epoch 12/100\n",
            "1800/1800 [==============================] - 0s 24us/step - loss: 0.7517 - accuracy: 0.7000 - val_loss: 0.7349 - val_accuracy: 0.7150\n",
            "Epoch 13/100\n",
            "1800/1800 [==============================] - 0s 24us/step - loss: 0.6882 - accuracy: 0.7311 - val_loss: 0.6753 - val_accuracy: 0.7600\n",
            "Epoch 14/100\n",
            "1800/1800 [==============================] - 0s 27us/step - loss: 0.6307 - accuracy: 0.7678 - val_loss: 0.6231 - val_accuracy: 0.7900\n",
            "Epoch 15/100\n",
            "1800/1800 [==============================] - 0s 26us/step - loss: 0.5784 - accuracy: 0.8128 - val_loss: 0.5739 - val_accuracy: 0.7950\n",
            "Epoch 16/100\n",
            "1800/1800 [==============================] - 0s 26us/step - loss: 0.5306 - accuracy: 0.8317 - val_loss: 0.5340 - val_accuracy: 0.8100\n",
            "Epoch 17/100\n",
            "1800/1800 [==============================] - 0s 25us/step - loss: 0.4870 - accuracy: 0.8578 - val_loss: 0.4956 - val_accuracy: 0.8350\n",
            "Epoch 18/100\n",
            "1800/1800 [==============================] - 0s 25us/step - loss: 0.4490 - accuracy: 0.8767 - val_loss: 0.4640 - val_accuracy: 0.8400\n",
            "Epoch 19/100\n",
            "1800/1800 [==============================] - 0s 25us/step - loss: 0.4148 - accuracy: 0.8878 - val_loss: 0.4319 - val_accuracy: 0.8450\n",
            "Epoch 20/100\n",
            "1800/1800 [==============================] - 0s 24us/step - loss: 0.3863 - accuracy: 0.8922 - val_loss: 0.4071 - val_accuracy: 0.8600\n",
            "Epoch 21/100\n",
            "1800/1800 [==============================] - 0s 23us/step - loss: 0.3599 - accuracy: 0.9017 - val_loss: 0.3836 - val_accuracy: 0.8750\n",
            "Epoch 22/100\n",
            "1800/1800 [==============================] - 0s 25us/step - loss: 0.3364 - accuracy: 0.9094 - val_loss: 0.3663 - val_accuracy: 0.8750\n",
            "Epoch 23/100\n",
            "1800/1800 [==============================] - 0s 24us/step - loss: 0.3157 - accuracy: 0.9167 - val_loss: 0.3494 - val_accuracy: 0.8750\n",
            "Epoch 24/100\n",
            "1800/1800 [==============================] - 0s 24us/step - loss: 0.2966 - accuracy: 0.9194 - val_loss: 0.3367 - val_accuracy: 0.8850\n",
            "Epoch 25/100\n",
            "1800/1800 [==============================] - 0s 25us/step - loss: 0.2793 - accuracy: 0.9300 - val_loss: 0.3215 - val_accuracy: 0.8850\n",
            "Epoch 26/100\n",
            "1800/1800 [==============================] - 0s 22us/step - loss: 0.2652 - accuracy: 0.9311 - val_loss: 0.3133 - val_accuracy: 0.8900\n",
            "Epoch 27/100\n",
            "1800/1800 [==============================] - 0s 21us/step - loss: 0.2515 - accuracy: 0.9333 - val_loss: 0.2995 - val_accuracy: 0.8750\n",
            "Epoch 28/100\n",
            "1800/1800 [==============================] - 0s 21us/step - loss: 0.2382 - accuracy: 0.9328 - val_loss: 0.2894 - val_accuracy: 0.8850\n",
            "Epoch 29/100\n",
            "1800/1800 [==============================] - 0s 23us/step - loss: 0.2271 - accuracy: 0.9367 - val_loss: 0.2815 - val_accuracy: 0.8850\n",
            "Epoch 30/100\n",
            "1800/1800 [==============================] - 0s 23us/step - loss: 0.2171 - accuracy: 0.9378 - val_loss: 0.2741 - val_accuracy: 0.8900\n",
            "Epoch 31/100\n",
            "1800/1800 [==============================] - 0s 21us/step - loss: 0.2086 - accuracy: 0.9417 - val_loss: 0.2692 - val_accuracy: 0.8950\n",
            "Epoch 32/100\n",
            "1800/1800 [==============================] - 0s 21us/step - loss: 0.1986 - accuracy: 0.9444 - val_loss: 0.2629 - val_accuracy: 0.8900\n",
            "Epoch 33/100\n",
            "1800/1800 [==============================] - 0s 22us/step - loss: 0.1915 - accuracy: 0.9467 - val_loss: 0.2618 - val_accuracy: 0.8900\n",
            "Epoch 34/100\n",
            "1800/1800 [==============================] - 0s 22us/step - loss: 0.1855 - accuracy: 0.9428 - val_loss: 0.2525 - val_accuracy: 0.8950\n",
            "Epoch 35/100\n",
            "1800/1800 [==============================] - 0s 21us/step - loss: 0.1774 - accuracy: 0.9511 - val_loss: 0.2496 - val_accuracy: 0.8950\n",
            "Epoch 36/100\n",
            "1800/1800 [==============================] - 0s 23us/step - loss: 0.1720 - accuracy: 0.9478 - val_loss: 0.2413 - val_accuracy: 0.9050\n",
            "Epoch 37/100\n",
            "1800/1800 [==============================] - 0s 22us/step - loss: 0.1660 - accuracy: 0.9511 - val_loss: 0.2431 - val_accuracy: 0.8950\n",
            "Epoch 38/100\n",
            "1800/1800 [==============================] - 0s 26us/step - loss: 0.1588 - accuracy: 0.9572 - val_loss: 0.2392 - val_accuracy: 0.8950\n",
            "Epoch 39/100\n",
            "1800/1800 [==============================] - 0s 23us/step - loss: 0.1550 - accuracy: 0.9561 - val_loss: 0.2373 - val_accuracy: 0.9000\n",
            "Epoch 40/100\n",
            "1800/1800 [==============================] - 0s 21us/step - loss: 0.1501 - accuracy: 0.9578 - val_loss: 0.2339 - val_accuracy: 0.9000\n",
            "Epoch 41/100\n",
            "1800/1800 [==============================] - 0s 21us/step - loss: 0.1457 - accuracy: 0.9589 - val_loss: 0.2355 - val_accuracy: 0.9050\n",
            "Epoch 42/100\n",
            "1800/1800 [==============================] - 0s 22us/step - loss: 0.1404 - accuracy: 0.9650 - val_loss: 0.2260 - val_accuracy: 0.9100\n",
            "Epoch 43/100\n",
            "1800/1800 [==============================] - 0s 22us/step - loss: 0.1377 - accuracy: 0.9606 - val_loss: 0.2297 - val_accuracy: 0.9050\n",
            "Epoch 44/100\n",
            "1800/1800 [==============================] - 0s 22us/step - loss: 0.1335 - accuracy: 0.9656 - val_loss: 0.2289 - val_accuracy: 0.9000\n",
            "Epoch 45/100\n",
            "1800/1800 [==============================] - 0s 22us/step - loss: 0.1305 - accuracy: 0.9656 - val_loss: 0.2247 - val_accuracy: 0.9100\n",
            "Epoch 46/100\n",
            "1800/1800 [==============================] - 0s 22us/step - loss: 0.1257 - accuracy: 0.9672 - val_loss: 0.2241 - val_accuracy: 0.9050\n",
            "Epoch 47/100\n",
            "1800/1800 [==============================] - 0s 22us/step - loss: 0.1244 - accuracy: 0.9656 - val_loss: 0.2211 - val_accuracy: 0.9100\n",
            "Epoch 48/100\n",
            "1800/1800 [==============================] - 0s 22us/step - loss: 0.1201 - accuracy: 0.9694 - val_loss: 0.2248 - val_accuracy: 0.9050\n",
            "Epoch 49/100\n",
            "1800/1800 [==============================] - 0s 22us/step - loss: 0.1164 - accuracy: 0.9722 - val_loss: 0.2161 - val_accuracy: 0.9100\n",
            "Epoch 50/100\n",
            "1800/1800 [==============================] - 0s 24us/step - loss: 0.1135 - accuracy: 0.9694 - val_loss: 0.2182 - val_accuracy: 0.9100\n",
            "Epoch 51/100\n",
            "1800/1800 [==============================] - 0s 22us/step - loss: 0.1109 - accuracy: 0.9711 - val_loss: 0.2216 - val_accuracy: 0.9100\n",
            "Epoch 52/100\n",
            "1800/1800 [==============================] - 0s 22us/step - loss: 0.1098 - accuracy: 0.9711 - val_loss: 0.2185 - val_accuracy: 0.9150\n",
            "Epoch 53/100\n",
            "1800/1800 [==============================] - 0s 22us/step - loss: 0.1055 - accuracy: 0.9728 - val_loss: 0.2128 - val_accuracy: 0.9250\n",
            "Epoch 54/100\n",
            "1800/1800 [==============================] - 0s 21us/step - loss: 0.1029 - accuracy: 0.9722 - val_loss: 0.2141 - val_accuracy: 0.9100\n",
            "Epoch 55/100\n",
            "1800/1800 [==============================] - 0s 22us/step - loss: 0.1012 - accuracy: 0.9728 - val_loss: 0.2148 - val_accuracy: 0.9100\n",
            "Epoch 56/100\n",
            "1800/1800 [==============================] - 0s 21us/step - loss: 0.0983 - accuracy: 0.9739 - val_loss: 0.2109 - val_accuracy: 0.9100\n",
            "Epoch 57/100\n",
            "1800/1800 [==============================] - 0s 21us/step - loss: 0.0967 - accuracy: 0.9733 - val_loss: 0.2115 - val_accuracy: 0.9150\n",
            "Epoch 58/100\n",
            "1800/1800 [==============================] - 0s 21us/step - loss: 0.0941 - accuracy: 0.9761 - val_loss: 0.2082 - val_accuracy: 0.9100\n",
            "Epoch 59/100\n",
            "1800/1800 [==============================] - 0s 22us/step - loss: 0.0923 - accuracy: 0.9761 - val_loss: 0.2138 - val_accuracy: 0.9200\n",
            "Epoch 60/100\n",
            "1800/1800 [==============================] - 0s 23us/step - loss: 0.0901 - accuracy: 0.9744 - val_loss: 0.2078 - val_accuracy: 0.9150\n",
            "Epoch 61/100\n",
            "1800/1800 [==============================] - 0s 22us/step - loss: 0.0882 - accuracy: 0.9761 - val_loss: 0.2080 - val_accuracy: 0.9250\n",
            "Epoch 62/100\n",
            "1800/1800 [==============================] - 0s 24us/step - loss: 0.0867 - accuracy: 0.9756 - val_loss: 0.2074 - val_accuracy: 0.9150\n",
            "Epoch 63/100\n",
            "1800/1800 [==============================] - 0s 21us/step - loss: 0.0849 - accuracy: 0.9789 - val_loss: 0.2063 - val_accuracy: 0.9200\n",
            "Epoch 64/100\n",
            "1800/1800 [==============================] - 0s 21us/step - loss: 0.0840 - accuracy: 0.9789 - val_loss: 0.2009 - val_accuracy: 0.9250\n",
            "Epoch 65/100\n",
            "1800/1800 [==============================] - 0s 21us/step - loss: 0.0817 - accuracy: 0.9822 - val_loss: 0.1999 - val_accuracy: 0.9200\n",
            "Epoch 66/100\n",
            "1800/1800 [==============================] - 0s 21us/step - loss: 0.0815 - accuracy: 0.9789 - val_loss: 0.2029 - val_accuracy: 0.9250\n",
            "Epoch 67/100\n",
            "1800/1800 [==============================] - 0s 23us/step - loss: 0.0787 - accuracy: 0.9811 - val_loss: 0.1930 - val_accuracy: 0.9100\n",
            "Epoch 68/100\n",
            "1800/1800 [==============================] - 0s 22us/step - loss: 0.0774 - accuracy: 0.9811 - val_loss: 0.1926 - val_accuracy: 0.9150\n",
            "Epoch 69/100\n",
            "1800/1800 [==============================] - 0s 27us/step - loss: 0.0763 - accuracy: 0.9806 - val_loss: 0.1944 - val_accuracy: 0.9250\n",
            "Epoch 70/100\n",
            "1800/1800 [==============================] - 0s 26us/step - loss: 0.0750 - accuracy: 0.9822 - val_loss: 0.1957 - val_accuracy: 0.9200\n",
            "Epoch 71/100\n",
            "1800/1800 [==============================] - 0s 25us/step - loss: 0.0731 - accuracy: 0.9833 - val_loss: 0.1959 - val_accuracy: 0.9200\n",
            "Epoch 72/100\n",
            "1800/1800 [==============================] - 0s 25us/step - loss: 0.0711 - accuracy: 0.9844 - val_loss: 0.1993 - val_accuracy: 0.9200\n",
            "Epoch 73/100\n",
            "1800/1800 [==============================] - 0s 24us/step - loss: 0.0698 - accuracy: 0.9867 - val_loss: 0.1907 - val_accuracy: 0.9200\n",
            "Epoch 74/100\n",
            "1800/1800 [==============================] - 0s 22us/step - loss: 0.0689 - accuracy: 0.9844 - val_loss: 0.1920 - val_accuracy: 0.9200\n",
            "Epoch 75/100\n",
            "1800/1800 [==============================] - 0s 21us/step - loss: 0.0675 - accuracy: 0.9872 - val_loss: 0.1939 - val_accuracy: 0.9150\n",
            "Epoch 76/100\n",
            "1800/1800 [==============================] - 0s 21us/step - loss: 0.0664 - accuracy: 0.9861 - val_loss: 0.1921 - val_accuracy: 0.9200\n",
            "Epoch 77/100\n",
            "1800/1800 [==============================] - 0s 21us/step - loss: 0.0645 - accuracy: 0.9872 - val_loss: 0.1987 - val_accuracy: 0.9200\n",
            "Epoch 78/100\n",
            "1800/1800 [==============================] - 0s 22us/step - loss: 0.0662 - accuracy: 0.9867 - val_loss: 0.1906 - val_accuracy: 0.9200\n",
            "Epoch 79/100\n",
            "1800/1800 [==============================] - 0s 22us/step - loss: 0.0644 - accuracy: 0.9878 - val_loss: 0.1972 - val_accuracy: 0.9200\n",
            "Epoch 80/100\n",
            "1800/1800 [==============================] - 0s 22us/step - loss: 0.0636 - accuracy: 0.9861 - val_loss: 0.1950 - val_accuracy: 0.9150\n",
            "Epoch 81/100\n",
            "1800/1800 [==============================] - 0s 21us/step - loss: 0.0606 - accuracy: 0.9889 - val_loss: 0.1902 - val_accuracy: 0.9200\n",
            "Epoch 82/100\n",
            "1800/1800 [==============================] - 0s 21us/step - loss: 0.0603 - accuracy: 0.9894 - val_loss: 0.1904 - val_accuracy: 0.9250\n",
            "Epoch 83/100\n",
            "1800/1800 [==============================] - 0s 21us/step - loss: 0.0591 - accuracy: 0.9889 - val_loss: 0.1914 - val_accuracy: 0.9200\n",
            "Epoch 84/100\n",
            "1800/1800 [==============================] - 0s 24us/step - loss: 0.0593 - accuracy: 0.9889 - val_loss: 0.1897 - val_accuracy: 0.9250\n",
            "Epoch 85/100\n",
            "1800/1800 [==============================] - 0s 22us/step - loss: 0.0575 - accuracy: 0.9894 - val_loss: 0.1918 - val_accuracy: 0.9200\n",
            "Epoch 86/100\n",
            "1800/1800 [==============================] - 0s 25us/step - loss: 0.0559 - accuracy: 0.9906 - val_loss: 0.1924 - val_accuracy: 0.9200\n",
            "Epoch 87/100\n",
            "1800/1800 [==============================] - 0s 21us/step - loss: 0.0554 - accuracy: 0.9917 - val_loss: 0.1934 - val_accuracy: 0.9200\n",
            "Epoch 88/100\n",
            "1800/1800 [==============================] - 0s 21us/step - loss: 0.0569 - accuracy: 0.9894 - val_loss: 0.1904 - val_accuracy: 0.9250\n",
            "Epoch 89/100\n",
            "1800/1800 [==============================] - 0s 21us/step - loss: 0.0542 - accuracy: 0.9906 - val_loss: 0.1939 - val_accuracy: 0.9200\n",
            "Epoch 90/100\n",
            "1800/1800 [==============================] - 0s 22us/step - loss: 0.0529 - accuracy: 0.9922 - val_loss: 0.1914 - val_accuracy: 0.9250\n",
            "Epoch 91/100\n",
            "1800/1800 [==============================] - 0s 22us/step - loss: 0.0523 - accuracy: 0.9906 - val_loss: 0.1996 - val_accuracy: 0.9250\n",
            "Epoch 92/100\n",
            "1800/1800 [==============================] - 0s 21us/step - loss: 0.0517 - accuracy: 0.9911 - val_loss: 0.1885 - val_accuracy: 0.9250\n",
            "Epoch 93/100\n",
            "1800/1800 [==============================] - 0s 21us/step - loss: 0.0506 - accuracy: 0.9922 - val_loss: 0.1934 - val_accuracy: 0.9300\n",
            "Epoch 94/100\n",
            "1800/1800 [==============================] - 0s 22us/step - loss: 0.0501 - accuracy: 0.9917 - val_loss: 0.1891 - val_accuracy: 0.9300\n",
            "Epoch 95/100\n",
            "1800/1800 [==============================] - 0s 23us/step - loss: 0.0487 - accuracy: 0.9928 - val_loss: 0.1901 - val_accuracy: 0.9300\n",
            "Epoch 96/100\n",
            "1800/1800 [==============================] - 0s 24us/step - loss: 0.0491 - accuracy: 0.9917 - val_loss: 0.1887 - val_accuracy: 0.9300\n",
            "Epoch 97/100\n",
            "1800/1800 [==============================] - 0s 23us/step - loss: 0.0473 - accuracy: 0.9928 - val_loss: 0.1941 - val_accuracy: 0.9300\n",
            "Epoch 98/100\n",
            "1800/1800 [==============================] - 0s 21us/step - loss: 0.0471 - accuracy: 0.9922 - val_loss: 0.1911 - val_accuracy: 0.9300\n",
            "Epoch 99/100\n",
            "1800/1800 [==============================] - 0s 20us/step - loss: 0.0462 - accuracy: 0.9928 - val_loss: 0.1932 - val_accuracy: 0.9300\n",
            "Epoch 100/100\n",
            "1800/1800 [==============================] - 0s 21us/step - loss: 0.0450 - accuracy: 0.9944 - val_loss: 0.1935 - val_accuracy: 0.9250\n"
          ],
          "name": "stdout"
        }
      ]
    },
    {
      "cell_type": "code",
      "metadata": {
        "id": "lwSaPiVoJPMu",
        "colab_type": "code",
        "colab": {}
      },
      "source": [
        "y_pred = model.predict(X_test)\n",
        "#Converting predictions to label\n",
        "pred = list()\n",
        "for i in range(len(y_pred)):\n",
        "    pred.append(np.argmax(y_pred[i]))\n",
        "#Converting one hot encoded test label to label\n",
        "test = list()\n",
        "for i in range(len(y_test)):\n",
        "    test.append(np.argmax(y_test[i]))"
      ],
      "execution_count": 0,
      "outputs": []
    },
    {
      "cell_type": "code",
      "metadata": {
        "id": "h0LbVoT3Kpez",
        "colab_type": "code",
        "colab": {
          "base_uri": "https://localhost:8080/",
          "height": 34
        },
        "outputId": "cfc66554-23f6-4d3a-855b-c07a98282f29"
      },
      "source": [
        "from sklearn.metrics import accuracy_score\n",
        "a = accuracy_score(pred,test)\n",
        "print('Accuracy is:', a*100)"
      ],
      "execution_count": 18,
      "outputs": [
        {
          "output_type": "stream",
          "text": [
            "Accuracy is: 92.5\n"
          ],
          "name": "stdout"
        }
      ]
    },
    {
      "cell_type": "code",
      "metadata": {
        "id": "_Ixp9GCgKzXQ",
        "colab_type": "code",
        "colab": {
          "base_uri": "https://localhost:8080/",
          "height": 295
        },
        "outputId": "7d72751e-d47f-4788-b2a7-a5cb8881c9d3"
      },
      "source": [
        "import matplotlib.pyplot as plt\n",
        "plt.plot(history.history['accuracy'])\n",
        "plt.plot(history.history['val_accuracy'])\n",
        "plt.title('Model accuracy')\n",
        "plt.ylabel('Accuracy')\n",
        "plt.xlabel('Epoch')\n",
        "plt.legend(['Train', 'Test'], loc='upper left')\n",
        "plt.show()"
      ],
      "execution_count": 19,
      "outputs": [
        {
          "output_type": "display_data",
          "data": {
            "image/png": "[encoded data removed]",
            "text/plain": [
              "<Figure size 432x288 with 1 Axes>"
            ]
          },
          "metadata": {
            "tags": [],
            "needs_background": "light"
          }
        }
      ]
    },
    {
      "cell_type": "code",
      "metadata": {
        "id": "1SKHpf96K48a",
        "colab_type": "code",
        "colab": {
          "base_uri": "https://localhost:8080/",
          "height": 295
        },
        "outputId": "d11f229a-6f2d-42bf-ee60-ec066f5b98df"
      },
      "source": [
        "plt.plot(history.history['loss']) \n",
        "plt.plot(history.history['val_loss']) \n",
        "plt.title('Model loss') \n",
        "plt.ylabel('Loss') \n",
        "plt.xlabel('Epoch') \n",
        "plt.legend(['Train', 'Test'], loc='upper left') \n",
        "plt.show()"
      ],
      "execution_count": 23,
      "outputs": [
        {
          "output_type": "display_data",
          "data": {
            "image/png": "[encoded data removed]",
            "text/plain": [
              "<Figure size 432x288 with 1 Axes>"
            ]
          },
          "metadata": {
            "tags": [],
            "needs_background": "light"
          }
        }
      ]
    },
    {
      "cell_type": "code",
      "metadata": {
        "id": "7KCdmMx9ojjb",
        "colab_type": "code",
        "colab": {}
      },
      "source": [
        ""
      ],
      "execution_count": 0,
      "outputs": []
    }
  ]
}